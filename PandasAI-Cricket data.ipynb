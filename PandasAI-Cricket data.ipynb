{
 "cells": [
  {
   "cell_type": "code",
   "execution_count": 1,
   "id": "de0a78d8-ae07-4596-bb47-3a3b5e7aad5f",
   "metadata": {},
   "outputs": [],
   "source": [
    "# Import basis libraries\n",
    "import pandas as pd\n",
    "from pandasai import PandasAI\n",
    "from pandasai.llm.openai import OpenAI\n",
    "from pandasai.llm.starcoder import Starcoder"
   ]
  },
  {
   "cell_type": "markdown",
   "id": "5c10526b-8b81-4f4b-8c62-e9d57a929749",
   "metadata": {
    "tags": []
   },
   "source": [
    "# Import Data - Cricket dataset"
   ]
  },
  {
   "cell_type": "code",
   "execution_count": 2,
   "id": "8325e396-f010-4909-b223-26200bb3f0fa",
   "metadata": {},
   "outputs": [
    {
     "data": {
      "text/html": [
       "<div>\n",
       "<style scoped>\n",
       "    .dataframe tbody tr th:only-of-type {\n",
       "        vertical-align: middle;\n",
       "    }\n",
       "\n",
       "    .dataframe tbody tr th {\n",
       "        vertical-align: top;\n",
       "    }\n",
       "\n",
       "    .dataframe thead th {\n",
       "        text-align: right;\n",
       "    }\n",
       "</style>\n",
       "<table border=\"1\" class=\"dataframe\">\n",
       "  <thead>\n",
       "    <tr style=\"text-align: right;\">\n",
       "      <th></th>\n",
       "      <th>season</th>\n",
       "      <th>id</th>\n",
       "      <th>name</th>\n",
       "      <th>short_name</th>\n",
       "      <th>description</th>\n",
       "      <th>home_team</th>\n",
       "      <th>away_team</th>\n",
       "      <th>toss_won</th>\n",
       "      <th>decision</th>\n",
       "      <th>1st_inning_score</th>\n",
       "      <th>...</th>\n",
       "      <th>home_playx1</th>\n",
       "      <th>away_playx1</th>\n",
       "      <th>away_key_batsman</th>\n",
       "      <th>away_key_bowler</th>\n",
       "      <th>match_days</th>\n",
       "      <th>umpire1</th>\n",
       "      <th>umpire2</th>\n",
       "      <th>tv_umpire</th>\n",
       "      <th>referee</th>\n",
       "      <th>reserve_umpire</th>\n",
       "    </tr>\n",
       "  </thead>\n",
       "  <tbody>\n",
       "    <tr>\n",
       "      <th>0</th>\n",
       "      <td>NaN</td>\n",
       "      <td>1370350</td>\n",
       "      <td>Chennai Super Kings v Gujarat Titans</td>\n",
       "      <td>CSK v GT</td>\n",
       "      <td>Qualifier 1 (N), Indian Premier League at Chen...</td>\n",
       "      <td>CSK</td>\n",
       "      <td>GT</td>\n",
       "      <td>NaN</td>\n",
       "      <td>NaN</td>\n",
       "      <td>NaN</td>\n",
       "      <td>...</td>\n",
       "      <td>NaN</td>\n",
       "      <td>NaN</td>\n",
       "      <td>NaN</td>\n",
       "      <td>NaN</td>\n",
       "      <td>NaN</td>\n",
       "      <td>NaN</td>\n",
       "      <td>NaN</td>\n",
       "      <td>NaN</td>\n",
       "      <td>NaN</td>\n",
       "      <td>NaN</td>\n",
       "    </tr>\n",
       "    <tr>\n",
       "      <th>1</th>\n",
       "      <td>NaN</td>\n",
       "      <td>1370351</td>\n",
       "      <td>Lucknow Super Giants v Mumbai Indians</td>\n",
       "      <td>LSG v MI</td>\n",
       "      <td>Eliminator (N), Indian Premier League at Chenn...</td>\n",
       "      <td>LSG</td>\n",
       "      <td>MI</td>\n",
       "      <td>NaN</td>\n",
       "      <td>NaN</td>\n",
       "      <td>NaN</td>\n",
       "      <td>...</td>\n",
       "      <td>NaN</td>\n",
       "      <td>NaN</td>\n",
       "      <td>NaN</td>\n",
       "      <td>NaN</td>\n",
       "      <td>NaN</td>\n",
       "      <td>NaN</td>\n",
       "      <td>NaN</td>\n",
       "      <td>NaN</td>\n",
       "      <td>NaN</td>\n",
       "      <td>NaN</td>\n",
       "    </tr>\n",
       "    <tr>\n",
       "      <th>2</th>\n",
       "      <td>NaN</td>\n",
       "      <td>1370352</td>\n",
       "      <td>TBC v TBC</td>\n",
       "      <td>TBC v TBC</td>\n",
       "      <td>Qualifier 2 (N), Indian Premier League at Ahme...</td>\n",
       "      <td>TBA</td>\n",
       "      <td>TBA</td>\n",
       "      <td>NaN</td>\n",
       "      <td>NaN</td>\n",
       "      <td>NaN</td>\n",
       "      <td>...</td>\n",
       "      <td>NaN</td>\n",
       "      <td>NaN</td>\n",
       "      <td>NaN</td>\n",
       "      <td>NaN</td>\n",
       "      <td>NaN</td>\n",
       "      <td>NaN</td>\n",
       "      <td>NaN</td>\n",
       "      <td>NaN</td>\n",
       "      <td>NaN</td>\n",
       "      <td>NaN</td>\n",
       "    </tr>\n",
       "    <tr>\n",
       "      <th>3</th>\n",
       "      <td>NaN</td>\n",
       "      <td>1370353</td>\n",
       "      <td>TBC v TBC</td>\n",
       "      <td>TBC v TBC</td>\n",
       "      <td>Final (N), Indian Premier League at Ahmedabad,...</td>\n",
       "      <td>TBA</td>\n",
       "      <td>TBA</td>\n",
       "      <td>NaN</td>\n",
       "      <td>NaN</td>\n",
       "      <td>NaN</td>\n",
       "      <td>...</td>\n",
       "      <td>NaN</td>\n",
       "      <td>NaN</td>\n",
       "      <td>NaN</td>\n",
       "      <td>NaN</td>\n",
       "      <td>NaN</td>\n",
       "      <td>NaN</td>\n",
       "      <td>NaN</td>\n",
       "      <td>NaN</td>\n",
       "      <td>NaN</td>\n",
       "      <td>NaN</td>\n",
       "    </tr>\n",
       "    <tr>\n",
       "      <th>4</th>\n",
       "      <td>2023.0</td>\n",
       "      <td>1359544</td>\n",
       "      <td>Royal Challengers Bangalore v Gujarat Titans</td>\n",
       "      <td>RCB v GT</td>\n",
       "      <td>70th Match (N), Indian Premier League at Benga...</td>\n",
       "      <td>RCB</td>\n",
       "      <td>GT</td>\n",
       "      <td>GT</td>\n",
       "      <td>BOWL FIRST</td>\n",
       "      <td>197/5</td>\n",
       "      <td>...</td>\n",
       "      <td>Virat Kohli (UKN),Faf du Plessis (UKN),Glenn M...</td>\n",
       "      <td>Wriddhiman Saha (WK),Shubman Gill (UKN),Vijay ...</td>\n",
       "      <td>Shubman Gill,Vijay Shankar</td>\n",
       "      <td>Noor Ahmad,Rashid Khan</td>\n",
       "      <td>21 May 2023 - night match (20-over match)</td>\n",
       "      <td>Nitin Menon</td>\n",
       "      <td>Virender Sharma</td>\n",
       "      <td>Tapan Sharma</td>\n",
       "      <td>Javagal Srinath</td>\n",
       "      <td>VM  Dhokre</td>\n",
       "    </tr>\n",
       "  </tbody>\n",
       "</table>\n",
       "<p>5 rows × 43 columns</p>\n",
       "</div>"
      ],
      "text/plain": [
       "   season       id                                          name short_name  \\\n",
       "0     NaN  1370350          Chennai Super Kings v Gujarat Titans   CSK v GT   \n",
       "1     NaN  1370351         Lucknow Super Giants v Mumbai Indians   LSG v MI   \n",
       "2     NaN  1370352                                     TBC v TBC  TBC v TBC   \n",
       "3     NaN  1370353                                     TBC v TBC  TBC v TBC   \n",
       "4  2023.0  1359544  Royal Challengers Bangalore v Gujarat Titans   RCB v GT   \n",
       "\n",
       "                                         description home_team away_team  \\\n",
       "0  Qualifier 1 (N), Indian Premier League at Chen...       CSK        GT   \n",
       "1  Eliminator (N), Indian Premier League at Chenn...       LSG        MI   \n",
       "2  Qualifier 2 (N), Indian Premier League at Ahme...       TBA       TBA   \n",
       "3  Final (N), Indian Premier League at Ahmedabad,...       TBA       TBA   \n",
       "4  70th Match (N), Indian Premier League at Benga...       RCB        GT   \n",
       "\n",
       "  toss_won    decision 1st_inning_score  ...  \\\n",
       "0      NaN         NaN              NaN  ...   \n",
       "1      NaN         NaN              NaN  ...   \n",
       "2      NaN         NaN              NaN  ...   \n",
       "3      NaN         NaN              NaN  ...   \n",
       "4       GT  BOWL FIRST            197/5  ...   \n",
       "\n",
       "                                         home_playx1  \\\n",
       "0                                                NaN   \n",
       "1                                                NaN   \n",
       "2                                                NaN   \n",
       "3                                                NaN   \n",
       "4  Virat Kohli (UKN),Faf du Plessis (UKN),Glenn M...   \n",
       "\n",
       "                                         away_playx1  \\\n",
       "0                                                NaN   \n",
       "1                                                NaN   \n",
       "2                                                NaN   \n",
       "3                                                NaN   \n",
       "4  Wriddhiman Saha (WK),Shubman Gill (UKN),Vijay ...   \n",
       "\n",
       "             away_key_batsman         away_key_bowler  \\\n",
       "0                         NaN                     NaN   \n",
       "1                         NaN                     NaN   \n",
       "2                         NaN                     NaN   \n",
       "3                         NaN                     NaN   \n",
       "4  Shubman Gill,Vijay Shankar  Noor Ahmad,Rashid Khan   \n",
       "\n",
       "                                  match_days      umpire1          umpire2  \\\n",
       "0                                        NaN          NaN              NaN   \n",
       "1                                        NaN          NaN              NaN   \n",
       "2                                        NaN          NaN              NaN   \n",
       "3                                        NaN          NaN              NaN   \n",
       "4  21 May 2023 - night match (20-over match)  Nitin Menon  Virender Sharma   \n",
       "\n",
       "      tv_umpire          referee reserve_umpire  \n",
       "0           NaN              NaN            NaN  \n",
       "1           NaN              NaN            NaN  \n",
       "2           NaN              NaN            NaN  \n",
       "3           NaN              NaN            NaN  \n",
       "4  Tapan Sharma  Javagal Srinath     VM  Dhokre  \n",
       "\n",
       "[5 rows x 43 columns]"
      ]
     },
     "execution_count": 2,
     "metadata": {},
     "output_type": "execute_result"
    }
   ],
   "source": [
    "df = pd.read_csv(\"data/Cricket_data.csv\")\n",
    "df.head()"
   ]
  },
  {
   "cell_type": "markdown",
   "id": "c764d7ab-8a41-4af1-8677-8b2850ef492b",
   "metadata": {},
   "source": [
    "# Initialise LLM - PandasAI "
   ]
  },
  {
   "cell_type": "code",
   "execution_count": 3,
   "id": "2dd9eec7-732a-4f30-83fd-9b5a2919939e",
   "metadata": {},
   "outputs": [],
   "source": [
    "# Define List of Models\n",
    "models = {\"OpenAI\": OpenAI, \"Starcoder\": Starcoder}"
   ]
  },
  {
   "cell_type": "code",
   "execution_count": 4,
   "id": "b57ace26-c781-49c0-b31b-d544ea399380",
   "metadata": {},
   "outputs": [],
   "source": [
    "## Use below code to use HuggingFace LLM Models\n",
    "model_to_run = 'Starcoder'\n",
    "API_KEY = #'<API KEY>'\n",
    "\n",
    "## Use below code to use OpenAI LLM Models\n",
    "# model_to_run = 'OpenAI'\n",
    "# API_KEY = '<API KEY>'"
   ]
  },
  {
   "cell_type": "code",
   "execution_count": 5,
   "id": "2ea3b683-a8b2-434d-8377-fd8f7af1ef5c",
   "metadata": {},
   "outputs": [],
   "source": [
    "# Model Initialisation\n",
    "llm = models[model_to_run](api_token=API_KEY) \n",
    "pandas_ai = PandasAI(llm, conversational=False, verbose=False) ## Use Verbose False if do not want to see the detailed output with pandas code"
   ]
  },
  {
   "cell_type": "markdown",
   "id": "691d49d4-2caf-4cdc-bc4d-63bffd2ae8ab",
   "metadata": {},
   "source": [
    "# Pandasai - Prompts"
   ]
  },
  {
   "cell_type": "markdown",
   "id": "a0492102-8526-4c68-bf7c-bc8c56d52a7c",
   "metadata": {},
   "source": [
    "### Data preparation/Cleaning tasks"
   ]
  },
  {
   "cell_type": "code",
   "execution_count": 6,
   "id": "7c26fcb7-2a05-468d-9cf6-6e9af091b4bc",
   "metadata": {},
   "outputs": [
    {
     "name": "stdout",
     "output_type": "stream",
     "text": [
      "527    154.0\n",
      "547    226.0\n",
      "541    192.0\n",
      "872    152.0\n",
      "687    116.0\n",
      "Name: home_runs, dtype: float64\n"
     ]
    }
   ],
   "source": [
    "prompt = 'show the sample values from the columns home_runs?'\n",
    "response = pandas_ai.run(df, prompt=prompt, is_conversational_answer=False)\n",
    "\n",
    "print(response)"
   ]
  },
  {
   "cell_type": "code",
   "execution_count": 7,
   "id": "4e6914fa-8326-41b1-b877-90e03ced614f",
   "metadata": {},
   "outputs": [
    {
     "name": "stdout",
     "output_type": "stream",
     "text": [
      "(1032, 43)\n"
     ]
    }
   ],
   "source": [
    "prompt = 'what are the dimensions of the data'\n",
    "response = pandas_ai.run(df, prompt=prompt, is_conversational_answer=False)\n",
    "\n",
    "print(response)"
   ]
  },
  {
   "cell_type": "code",
   "execution_count": 8,
   "id": "5367f04f-77aa-4c7d-9bb4-2fc03c047297",
   "metadata": {},
   "outputs": [
    {
     "name": "stdout",
     "output_type": "stream",
     "text": [
      "(1032, 43)\n"
     ]
    }
   ],
   "source": [
    "prompt = 'what are the column and their data types?'\n",
    "print(response)"
   ]
  },
  {
   "cell_type": "code",
   "execution_count": 9,
   "id": "d7517d13-da94-41b5-875f-09792d4d3e8a",
   "metadata": {},
   "outputs": [
    {
     "name": "stdout",
     "output_type": "stream",
     "text": [
      "season               5\n",
      "id                   0\n",
      "name                 0\n",
      "short_name           0\n",
      "description          0\n",
      "home_team            0\n",
      "away_team            0\n",
      "toss_won             5\n",
      "decision             5\n",
      "1st_inning_score    13\n",
      "2nd_inning_score    15\n",
      "winner               1\n",
      "result               0\n",
      "start_date           0\n",
      "end_date             0\n",
      "venue_id             0\n",
      "venue_name           0\n",
      "home_captain         5\n",
      "away_captain         5\n",
      "pom                 17\n",
      "points              65\n",
      "super_over           5\n",
      "home_overs          13\n",
      "home_runs           13\n",
      "home_wickets        13\n",
      "home_boundaries     13\n",
      "away_overs          15\n",
      "away_runs           15\n",
      "away_wickets        15\n",
      "away_boundaries     15\n",
      "highlights          27\n",
      "home_key_batsman    13\n",
      "home_key_bowler     26\n",
      "home_playx1          5\n",
      "away_playx1          5\n",
      "away_key_batsman    15\n",
      "away_key_bowler     24\n",
      "match_days           5\n",
      "umpire1              5\n",
      "umpire2              5\n",
      "tv_umpire            7\n",
      "referee              5\n",
      "reserve_umpire      31\n",
      "dtype: int64\n"
     ]
    }
   ],
   "source": [
    "prompt = 'count of rows where values are null'\n",
    "response = pandas_ai.run(df, prompt=prompt, is_conversational_answer=False)\n",
    "\n",
    "print(response)"
   ]
  },
  {
   "cell_type": "code",
   "execution_count": 10,
   "id": "c96983a3-0ba4-4f36-b022-0b4a1edfdf0d",
   "metadata": {},
   "outputs": [
    {
     "name": "stdout",
     "output_type": "stream",
     "text": [
      "      season       id                                          name  \\\n",
      "0             1370350          Chennai Super Kings v Gujarat Titans   \n",
      "1             1370351         Lucknow Super Giants v Mumbai Indians   \n",
      "2             1370352                                     TBC v TBC   \n",
      "3             1370353                                     TBC v TBC   \n",
      "4     2023.0  1359544  Royal Challengers Bangalore v Gujarat Titans   \n",
      "...      ...      ...                                           ...   \n",
      "1027  2008.0   336012  Royal Challengers Bangalore v Mumbai Indians   \n",
      "1028  2008.0   336019            Kings XI Punjab v Rajasthan Royals   \n",
      "1029  2008.0   336038           Delhi Daredevils v Rajasthan Royals   \n",
      "1030  2008.0   336039         Chennai Super Kings v Kings XI Punjab   \n",
      "1031  2008.0   336040        Chennai Super Kings v Rajasthan Royals   \n",
      "\n",
      "      short_name                                        description home_team  \\\n",
      "0       CSK v GT  Qualifier 1 (N), Indian Premier League at Chen...       CSK   \n",
      "1       LSG v MI  Eliminator (N), Indian Premier League at Chenn...       LSG   \n",
      "2      TBC v TBC  Qualifier 2 (N), Indian Premier League at Ahme...       TBA   \n",
      "3      TBC v TBC  Final (N), Indian Premier League at Ahmedabad,...       TBA   \n",
      "4       RCB v GT  70th Match (N), Indian Premier League at Benga...       RCB   \n",
      "...          ...                                                ...       ...   \n",
      "1027    RCB v MI  55th match (D/N), Indian Premier League at Ben...       RCB   \n",
      "1028   KXIP v RR  56th match (N), Indian Premier League at Mohal...      KXIP   \n",
      "1029     DC v RR  1st Semi-Final (N), Indian Premier League at M...        DC   \n",
      "1030  CSK v KXIP  2nd Semi-Final (N), Indian Premier League at M...       CSK   \n",
      "1031    CSK v RR  Final (N), Indian Premier League at Mumbai, Ju...       CSK   \n",
      "\n",
      "     away_team toss_won    decision 1st_inning_score  ...  \\\n",
      "0           GT                                        ...   \n",
      "1           MI                                        ...   \n",
      "2          TBA                                        ...   \n",
      "3          TBA                                        ...   \n",
      "4           GT       GT  BOWL FIRST            197/5  ...   \n",
      "...        ...      ...         ...              ...  ...   \n",
      "1027        MI       MI  BOWL FIRST            122/9  ...   \n",
      "1028        RR       RR  BOWL FIRST            221/3  ...   \n",
      "1029        RR       DC  BOWL FIRST            192/9  ...   \n",
      "1030      KXIP     KXIP   BAT FIRST            112/8  ...   \n",
      "1031        RR       RR  BOWL FIRST            163/5  ...   \n",
      "\n",
      "                                            home_playx1  \\\n",
      "0                                                         \n",
      "1                                                         \n",
      "2                                                         \n",
      "3                                                         \n",
      "4     Virat Kohli (UKN),Faf du Plessis (UKN),Glenn M...   \n",
      "...                                                 ...   \n",
      "1027  Mark Boucher (BT),Shreevats Goswami (WK),Misba...   \n",
      "1028  Shaun Marsh (BT),James Hopes (AR),Yuvraj Singh...   \n",
      "1029  Gautam Gambhir (BT),Virender Sehwag (BT),Shikh...   \n",
      "1030  Parthiv Patel (WK),Vidyut Sivaramakrishnan (UK...   \n",
      "1031  Parthiv Patel (WK),Vidyut Sivaramakrishnan (UK...   \n",
      "\n",
      "                                            away_playx1  \\\n",
      "0                                                         \n",
      "1                                                         \n",
      "2                                                         \n",
      "3                                                         \n",
      "4     Wriddhiman Saha (WK),Shubman Gill (UKN),Vijay ...   \n",
      "...                                                 ...   \n",
      "1027  Sanath Jayasuriya (AR),Sachin Tendulkar (BT),R...   \n",
      "1028  Mohammad Kaif (BT),Niraj Patel (UKN),Younis Kh...   \n",
      "1029  Graeme Smith (BT),Swapnil Asnodkar (BT),Sohail...   \n",
      "1030  Shaun Marsh (BT),James Hopes (AR),Kumar Sangak...   \n",
      "1031  Niraj Patel (UKN),Swapnil Asnodkar (BT),Kamran...   \n",
      "\n",
      "                        away_key_batsman                away_key_bowler  \\\n",
      "0                                                                         \n",
      "1                                                                         \n",
      "2                                                                         \n",
      "3                                                                         \n",
      "4             Shubman Gill,Vijay Shankar         Noor Ahmad,Rashid Khan   \n",
      "...                                  ...                            ...   \n",
      "1027  Sanath Jayasuriya,Sachin Tendulkar  Dilhara Fernando,Dwayne Smith   \n",
      "1028            Niraj Patel,Yusuf Pathan      Shane Watson,Yusuf Pathan   \n",
      "1029           Shane Watson,Yusuf Pathan       Shane Watson,Munaf Patel   \n",
      "1030            Ramesh Powar,Wilkin Mota      Irfan Pathan,Vikram Singh   \n",
      "1031       Yusuf Pathan,Swapnil Asnodkar      Yusuf Pathan,Shane Watson   \n",
      "\n",
      "                                         match_days            umpire1  \\\n",
      "0                                                                        \n",
      "1                                                                        \n",
      "2                                                                        \n",
      "3                                                                        \n",
      "4         21 May 2023 - night match (20-over match)        Nitin Menon   \n",
      "...                                             ...                ...   \n",
      "1027  28 May 2008 - day/night match (20-over match)       Billy Bowden   \n",
      "1028      28 May 2008 - night match (20-over match)  Krishna Hariharan   \n",
      "1029      30 May 2008 - night match (20-over match)       Billy Bowden   \n",
      "1030      31 May 2008 - night match (20-over match)          Asad Rauf   \n",
      "1031      1 June 2008 - night match (20-over match)       Billy Bowden   \n",
      "\n",
      "                umpire2          tv_umpire                   referee  \\\n",
      "0                                                                      \n",
      "1                                                                      \n",
      "2                                                                      \n",
      "3                                                                      \n",
      "4       Virender Sharma       Tapan Sharma           Javagal Srinath   \n",
      "...                 ...                ...                       ...   \n",
      "1027  Arani Jayaprakash     Billy Doctrove           Sir Clive Lloyd   \n",
      "1028        Steve Davis       Daryl Harper  Srinivas Venkataraghavan   \n",
      "1029      Rudi Koertzen     Billy Doctrove           Javagal Srinath   \n",
      "1030       Daryl Harper  Krishna Hariharan  Srinivas Venkataraghavan   \n",
      "1031      Rudi Koertzen       Daryl Harper           Javagal Srinath   \n",
      "\n",
      "     reserve_umpire  \n",
      "0                    \n",
      "1                    \n",
      "2                    \n",
      "3                    \n",
      "4        VM  Dhokre  \n",
      "...             ...  \n",
      "1027                 \n",
      "1028       MS Mahal  \n",
      "1029                 \n",
      "1030                 \n",
      "1031       MR Singh  \n",
      "\n",
      "[1032 rows x 43 columns]\n"
     ]
    }
   ],
   "source": [
    "## Replace null\n",
    "prompt = 'replace null values with \"\"'\n",
    "response = pandas_ai.run(df, prompt=prompt, is_conversational_answer=False)\n",
    "\n",
    "print(response)"
   ]
  },
  {
   "cell_type": "code",
   "execution_count": 11,
   "id": "c8feb2f0-2a4d-40d1-98e8-fa1705672264",
   "metadata": {},
   "outputs": [
    {
     "name": "stdout",
     "output_type": "stream",
     "text": [
      "season               5\n",
      "id                   0\n",
      "name                 0\n",
      "short_name           0\n",
      "description          0\n",
      "home_team            0\n",
      "away_team            0\n",
      "toss_won             5\n",
      "decision             5\n",
      "1st_inning_score    13\n",
      "2nd_inning_score    15\n",
      "winner               1\n",
      "result               0\n",
      "start_date           0\n",
      "end_date             0\n",
      "venue_id             0\n",
      "venue_name           0\n",
      "home_captain         5\n",
      "away_captain         5\n",
      "pom                 17\n",
      "points              65\n",
      "super_over           5\n",
      "home_overs          13\n",
      "home_runs           13\n",
      "home_wickets        13\n",
      "home_boundaries     13\n",
      "away_overs          15\n",
      "away_runs           15\n",
      "away_wickets        15\n",
      "away_boundaries     15\n",
      "highlights          27\n",
      "home_key_batsman    13\n",
      "home_key_bowler     26\n",
      "home_playx1          5\n",
      "away_playx1          5\n",
      "away_key_batsman    15\n",
      "away_key_bowler     24\n",
      "match_days           5\n",
      "umpire1              5\n",
      "umpire2              5\n",
      "tv_umpire            7\n",
      "referee              5\n",
      "reserve_umpire      31\n",
      "dtype: int64\n"
     ]
    }
   ],
   "source": [
    "## testing with null replace ment worked\n",
    "prompt = 'count of rows where values are null'\n",
    "response = pandas_ai.run(df, prompt=prompt, is_conversational_answer=False)\n",
    "\n",
    "print(response)"
   ]
  },
  {
   "cell_type": "markdown",
   "id": "66438590-4f9b-4a01-a1e1-23d32beca956",
   "metadata": {},
   "source": [
    "## Interesting insights - EDA"
   ]
  },
  {
   "cell_type": "code",
   "execution_count": 12,
   "id": "97baa7ae-44ff-46f7-b97a-bbfe9ecc74a6",
   "metadata": {},
   "outputs": [
    {
     "name": "stdout",
     "output_type": "stream",
     "text": [
      "['CSK' 'LSG' 'TBA' 'RCB' 'MI' 'KKR' 'DC' 'PBKS' 'SRH' 'GT' 'RR' 'KXIP'\n",
      " 'RPS' 'GL' 'PWI' 'Kochi']\n"
     ]
    }
   ],
   "source": [
    "prompt = 'unique list of teams'\n",
    "response = pandas_ai.run(df, prompt=prompt, is_conversational_answer=False)\n",
    "\n",
    "print(response)"
   ]
  },
  {
   "cell_type": "code",
   "execution_count": 16,
   "id": "4137e664-0c93-4c06-b598-f9a84bd35e93",
   "metadata": {},
   "outputs": [
    {
     "name": "stdout",
     "output_type": "stream",
     "text": [
      "No code found in the response\n",
      "Unfortunately, I was not able to answer your question, because of the following error:\n",
      "\n",
      "No code found in the response\n",
      "\n"
     ]
    }
   ],
   "source": [
    "prompt = 'Plot a bar chart of total points per team'\n",
    "response = pandas_ai.run(df, prompt=prompt, is_conversational_answer=False)\n",
    "print(response)"
   ]
  },
  {
   "cell_type": "code",
   "execution_count": 14,
   "id": "6e5560a2-5778-4a88-926c-a8ceecfe32e0",
   "metadata": {},
   "outputs": [
    {
     "name": "stdout",
     "output_type": "stream",
     "text": [
      "MI         131\n",
      "SRH        124\n",
      "DC         123\n",
      "KKR        119\n",
      "CSK        117\n",
      "RCB        114\n",
      "RR         109\n",
      "KXIP        94\n",
      "PWI         20\n",
      "GT          18\n",
      "GL          15\n",
      "RPS         13\n",
      "LSG         10\n",
      "Kochi        8\n",
      "no toss      7\n",
      "PBKS         5\n",
      "Name: toss_won, dtype: int64\n"
     ]
    }
   ],
   "source": [
    "prompt = 'which team has won the toss the most?'\n",
    "response = pandas_ai.run(df, prompt=prompt, is_conversational_answer=False)\n",
    "\n",
    "print(response)"
   ]
  },
  {
   "cell_type": "code",
   "execution_count": 15,
   "id": "e39c7456-c300-4c9e-b84f-386732ccf4d1",
   "metadata": {},
   "outputs": [
    {
     "name": "stdout",
     "output_type": "stream",
     "text": [
      "\n"
     ]
    },
    {
     "data": {
      "image/png": "[encoded data removed]",
      "text/plain": [
       "<Figure size 432x288 with 1 Axes>"
      ]
     },
     "metadata": {
      "needs_background": "light"
     },
     "output_type": "display_data"
    }
   ],
   "source": [
    "prompt = 'Plot win rates for each team?'\n",
    "response = pandas_ai.run(df, prompt=prompt, is_conversational_answer=False)\n",
    "\n",
    "print(response)"
   ]
  },
  {
   "cell_type": "code",
   "execution_count": null,
   "id": "8d9adc6e-859d-4a88-9c97-7fcd77a5ddfd",
   "metadata": {},
   "outputs": [],
   "source": []
  }
 ],
 "metadata": {
  "kernelspec": {
   "display_name": "Python 3 (ipykernel)",
   "language": "python",
   "name": "python3"
  },
  "language_info": {
   "codemirror_mode": {
    "name": "ipython",
    "version": 3
   },
   "file_extension": ".py",
   "mimetype": "text/x-python",
   "name": "python",
   "nbconvert_exporter": "python",
   "pygments_lexer": "ipython3",
   "version": "3.9.12"
  }
 },
 "nbformat": 4,
 "nbformat_minor": 5
}
